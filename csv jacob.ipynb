{
 "cells": [
  {
   "cell_type": "code",
   "execution_count": 32,
   "metadata": {
    "scrolled": true
   },
   "outputs": [
    {
     "data": {
      "text/html": [
       "<div>\n",
       "<style scoped>\n",
       "    .dataframe tbody tr th:only-of-type {\n",
       "        vertical-align: middle;\n",
       "    }\n",
       "\n",
       "    .dataframe tbody tr th {\n",
       "        vertical-align: top;\n",
       "    }\n",
       "\n",
       "    .dataframe thead th {\n",
       "        text-align: right;\n",
       "    }\n",
       "</style>\n",
       "<table border=\"1\" class=\"dataframe\">\n",
       "  <thead>\n",
       "    <tr style=\"text-align: right;\">\n",
       "      <th></th>\n",
       "      <th>id</th>\n",
       "      <th>date</th>\n",
       "      <th>price</th>\n",
       "      <th>bedrooms</th>\n",
       "      <th>bathrooms</th>\n",
       "      <th>sqft_living</th>\n",
       "      <th>sqft_lot</th>\n",
       "      <th>floors</th>\n",
       "      <th>waterfront</th>\n",
       "      <th>view</th>\n",
       "      <th>...</th>\n",
       "      <th>grade</th>\n",
       "      <th>sqft_above</th>\n",
       "      <th>sqft_basement</th>\n",
       "      <th>yr_built</th>\n",
       "      <th>yr_renovated</th>\n",
       "      <th>zipcode</th>\n",
       "      <th>lat</th>\n",
       "      <th>long</th>\n",
       "      <th>sqft_living15</th>\n",
       "      <th>sqft_lot15</th>\n",
       "    </tr>\n",
       "  </thead>\n",
       "  <tbody>\n",
       "    <tr>\n",
       "      <td>1</td>\n",
       "      <td>6414100192</td>\n",
       "      <td>20141209T000000</td>\n",
       "      <td>538000.0</td>\n",
       "      <td>3</td>\n",
       "      <td>2.25</td>\n",
       "      <td>2570</td>\n",
       "      <td>7242</td>\n",
       "      <td>2.0</td>\n",
       "      <td>0</td>\n",
       "      <td>0</td>\n",
       "      <td>...</td>\n",
       "      <td>7</td>\n",
       "      <td>2170</td>\n",
       "      <td>400</td>\n",
       "      <td>1951</td>\n",
       "      <td>1991</td>\n",
       "      <td>98125</td>\n",
       "      <td>47.7210</td>\n",
       "      <td>-122.319</td>\n",
       "      <td>1690</td>\n",
       "      <td>7639</td>\n",
       "    </tr>\n",
       "    <tr>\n",
       "      <td>2</td>\n",
       "      <td>5631500400</td>\n",
       "      <td>20150225T000000</td>\n",
       "      <td>180000.0</td>\n",
       "      <td>2</td>\n",
       "      <td>1.00</td>\n",
       "      <td>770</td>\n",
       "      <td>10000</td>\n",
       "      <td>1.0</td>\n",
       "      <td>0</td>\n",
       "      <td>0</td>\n",
       "      <td>...</td>\n",
       "      <td>6</td>\n",
       "      <td>770</td>\n",
       "      <td>0</td>\n",
       "      <td>1933</td>\n",
       "      <td>0</td>\n",
       "      <td>98028</td>\n",
       "      <td>47.7379</td>\n",
       "      <td>-122.233</td>\n",
       "      <td>2720</td>\n",
       "      <td>8062</td>\n",
       "    </tr>\n",
       "    <tr>\n",
       "      <td>3</td>\n",
       "      <td>2487200875</td>\n",
       "      <td>20141209T000000</td>\n",
       "      <td>604000.0</td>\n",
       "      <td>4</td>\n",
       "      <td>3.00</td>\n",
       "      <td>1960</td>\n",
       "      <td>5000</td>\n",
       "      <td>1.0</td>\n",
       "      <td>0</td>\n",
       "      <td>0</td>\n",
       "      <td>...</td>\n",
       "      <td>7</td>\n",
       "      <td>1050</td>\n",
       "      <td>910</td>\n",
       "      <td>1965</td>\n",
       "      <td>0</td>\n",
       "      <td>98136</td>\n",
       "      <td>47.5208</td>\n",
       "      <td>-122.393</td>\n",
       "      <td>1360</td>\n",
       "      <td>5000</td>\n",
       "    </tr>\n",
       "    <tr>\n",
       "      <td>4</td>\n",
       "      <td>1954400510</td>\n",
       "      <td>20150218T000000</td>\n",
       "      <td>510000.0</td>\n",
       "      <td>3</td>\n",
       "      <td>2.00</td>\n",
       "      <td>1680</td>\n",
       "      <td>8080</td>\n",
       "      <td>1.0</td>\n",
       "      <td>0</td>\n",
       "      <td>0</td>\n",
       "      <td>...</td>\n",
       "      <td>8</td>\n",
       "      <td>1680</td>\n",
       "      <td>0</td>\n",
       "      <td>1987</td>\n",
       "      <td>0</td>\n",
       "      <td>98074</td>\n",
       "      <td>47.6168</td>\n",
       "      <td>-122.045</td>\n",
       "      <td>1800</td>\n",
       "      <td>7503</td>\n",
       "    </tr>\n",
       "    <tr>\n",
       "      <td>5</td>\n",
       "      <td>7237550310</td>\n",
       "      <td>20140512T000000</td>\n",
       "      <td>1225000.0</td>\n",
       "      <td>4</td>\n",
       "      <td>4.50</td>\n",
       "      <td>5420</td>\n",
       "      <td>101930</td>\n",
       "      <td>1.0</td>\n",
       "      <td>0</td>\n",
       "      <td>0</td>\n",
       "      <td>...</td>\n",
       "      <td>11</td>\n",
       "      <td>3890</td>\n",
       "      <td>1530</td>\n",
       "      <td>2001</td>\n",
       "      <td>0</td>\n",
       "      <td>98053</td>\n",
       "      <td>47.6561</td>\n",
       "      <td>-122.005</td>\n",
       "      <td>4760</td>\n",
       "      <td>101930</td>\n",
       "    </tr>\n",
       "    <tr>\n",
       "      <td>...</td>\n",
       "      <td>...</td>\n",
       "      <td>...</td>\n",
       "      <td>...</td>\n",
       "      <td>...</td>\n",
       "      <td>...</td>\n",
       "      <td>...</td>\n",
       "      <td>...</td>\n",
       "      <td>...</td>\n",
       "      <td>...</td>\n",
       "      <td>...</td>\n",
       "      <td>...</td>\n",
       "      <td>...</td>\n",
       "      <td>...</td>\n",
       "      <td>...</td>\n",
       "      <td>...</td>\n",
       "      <td>...</td>\n",
       "      <td>...</td>\n",
       "      <td>...</td>\n",
       "      <td>...</td>\n",
       "      <td>...</td>\n",
       "      <td>...</td>\n",
       "    </tr>\n",
       "    <tr>\n",
       "      <td>21608</td>\n",
       "      <td>263000018</td>\n",
       "      <td>20140521T000000</td>\n",
       "      <td>360000.0</td>\n",
       "      <td>3</td>\n",
       "      <td>2.50</td>\n",
       "      <td>1530</td>\n",
       "      <td>1131</td>\n",
       "      <td>3.0</td>\n",
       "      <td>0</td>\n",
       "      <td>0</td>\n",
       "      <td>...</td>\n",
       "      <td>8</td>\n",
       "      <td>1530</td>\n",
       "      <td>0</td>\n",
       "      <td>2009</td>\n",
       "      <td>0</td>\n",
       "      <td>98103</td>\n",
       "      <td>47.6993</td>\n",
       "      <td>-122.346</td>\n",
       "      <td>1530</td>\n",
       "      <td>1509</td>\n",
       "    </tr>\n",
       "    <tr>\n",
       "      <td>21609</td>\n",
       "      <td>6600060120</td>\n",
       "      <td>20150223T000000</td>\n",
       "      <td>400000.0</td>\n",
       "      <td>4</td>\n",
       "      <td>2.50</td>\n",
       "      <td>2310</td>\n",
       "      <td>5813</td>\n",
       "      <td>2.0</td>\n",
       "      <td>0</td>\n",
       "      <td>0</td>\n",
       "      <td>...</td>\n",
       "      <td>8</td>\n",
       "      <td>2310</td>\n",
       "      <td>0</td>\n",
       "      <td>2014</td>\n",
       "      <td>0</td>\n",
       "      <td>98146</td>\n",
       "      <td>47.5107</td>\n",
       "      <td>-122.362</td>\n",
       "      <td>1830</td>\n",
       "      <td>7200</td>\n",
       "    </tr>\n",
       "    <tr>\n",
       "      <td>21610</td>\n",
       "      <td>1523300141</td>\n",
       "      <td>20140623T000000</td>\n",
       "      <td>402101.0</td>\n",
       "      <td>2</td>\n",
       "      <td>0.75</td>\n",
       "      <td>1020</td>\n",
       "      <td>1350</td>\n",
       "      <td>2.0</td>\n",
       "      <td>0</td>\n",
       "      <td>0</td>\n",
       "      <td>...</td>\n",
       "      <td>7</td>\n",
       "      <td>1020</td>\n",
       "      <td>0</td>\n",
       "      <td>2009</td>\n",
       "      <td>0</td>\n",
       "      <td>98144</td>\n",
       "      <td>47.5944</td>\n",
       "      <td>-122.299</td>\n",
       "      <td>1020</td>\n",
       "      <td>2007</td>\n",
       "    </tr>\n",
       "    <tr>\n",
       "      <td>21611</td>\n",
       "      <td>291310100</td>\n",
       "      <td>20150116T000000</td>\n",
       "      <td>400000.0</td>\n",
       "      <td>3</td>\n",
       "      <td>2.50</td>\n",
       "      <td>1600</td>\n",
       "      <td>2388</td>\n",
       "      <td>2.0</td>\n",
       "      <td>0</td>\n",
       "      <td>0</td>\n",
       "      <td>...</td>\n",
       "      <td>8</td>\n",
       "      <td>1600</td>\n",
       "      <td>0</td>\n",
       "      <td>2004</td>\n",
       "      <td>0</td>\n",
       "      <td>98027</td>\n",
       "      <td>47.5345</td>\n",
       "      <td>-122.069</td>\n",
       "      <td>1410</td>\n",
       "      <td>1287</td>\n",
       "    </tr>\n",
       "    <tr>\n",
       "      <td>21612</td>\n",
       "      <td>1523300157</td>\n",
       "      <td>20141015T000000</td>\n",
       "      <td>325000.0</td>\n",
       "      <td>2</td>\n",
       "      <td>0.75</td>\n",
       "      <td>1020</td>\n",
       "      <td>1076</td>\n",
       "      <td>2.0</td>\n",
       "      <td>0</td>\n",
       "      <td>0</td>\n",
       "      <td>...</td>\n",
       "      <td>7</td>\n",
       "      <td>1020</td>\n",
       "      <td>0</td>\n",
       "      <td>2008</td>\n",
       "      <td>0</td>\n",
       "      <td>98144</td>\n",
       "      <td>47.5941</td>\n",
       "      <td>-122.299</td>\n",
       "      <td>1020</td>\n",
       "      <td>1357</td>\n",
       "    </tr>\n",
       "  </tbody>\n",
       "</table>\n",
       "<p>21612 rows × 21 columns</p>\n",
       "</div>"
      ],
      "text/plain": [
       "               id             date      price  bedrooms  bathrooms  \\\n",
       "1      6414100192  20141209T000000   538000.0         3       2.25   \n",
       "2      5631500400  20150225T000000   180000.0         2       1.00   \n",
       "3      2487200875  20141209T000000   604000.0         4       3.00   \n",
       "4      1954400510  20150218T000000   510000.0         3       2.00   \n",
       "5      7237550310  20140512T000000  1225000.0         4       4.50   \n",
       "...           ...              ...        ...       ...        ...   \n",
       "21608   263000018  20140521T000000   360000.0         3       2.50   \n",
       "21609  6600060120  20150223T000000   400000.0         4       2.50   \n",
       "21610  1523300141  20140623T000000   402101.0         2       0.75   \n",
       "21611   291310100  20150116T000000   400000.0         3       2.50   \n",
       "21612  1523300157  20141015T000000   325000.0         2       0.75   \n",
       "\n",
       "       sqft_living  sqft_lot  floors  waterfront  view  ...  grade  \\\n",
       "1             2570      7242     2.0           0     0  ...      7   \n",
       "2              770     10000     1.0           0     0  ...      6   \n",
       "3             1960      5000     1.0           0     0  ...      7   \n",
       "4             1680      8080     1.0           0     0  ...      8   \n",
       "5             5420    101930     1.0           0     0  ...     11   \n",
       "...            ...       ...     ...         ...   ...  ...    ...   \n",
       "21608         1530      1131     3.0           0     0  ...      8   \n",
       "21609         2310      5813     2.0           0     0  ...      8   \n",
       "21610         1020      1350     2.0           0     0  ...      7   \n",
       "21611         1600      2388     2.0           0     0  ...      8   \n",
       "21612         1020      1076     2.0           0     0  ...      7   \n",
       "\n",
       "       sqft_above  sqft_basement  yr_built  yr_renovated  zipcode      lat  \\\n",
       "1            2170            400      1951          1991    98125  47.7210   \n",
       "2             770              0      1933             0    98028  47.7379   \n",
       "3            1050            910      1965             0    98136  47.5208   \n",
       "4            1680              0      1987             0    98074  47.6168   \n",
       "5            3890           1530      2001             0    98053  47.6561   \n",
       "...           ...            ...       ...           ...      ...      ...   \n",
       "21608        1530              0      2009             0    98103  47.6993   \n",
       "21609        2310              0      2014             0    98146  47.5107   \n",
       "21610        1020              0      2009             0    98144  47.5944   \n",
       "21611        1600              0      2004             0    98027  47.5345   \n",
       "21612        1020              0      2008             0    98144  47.5941   \n",
       "\n",
       "          long  sqft_living15  sqft_lot15  \n",
       "1     -122.319           1690        7639  \n",
       "2     -122.233           2720        8062  \n",
       "3     -122.393           1360        5000  \n",
       "4     -122.045           1800        7503  \n",
       "5     -122.005           4760      101930  \n",
       "...        ...            ...         ...  \n",
       "21608 -122.346           1530        1509  \n",
       "21609 -122.362           1830        7200  \n",
       "21610 -122.299           1020        2007  \n",
       "21611 -122.069           1410        1287  \n",
       "21612 -122.299           1020        1357  \n",
       "\n",
       "[21612 rows x 21 columns]"
      ]
     },
     "execution_count": 32,
     "metadata": {},
     "output_type": "execute_result"
    }
   ],
   "source": [
    "import csv \n",
    "import pandas as pd\n",
    "import numpy as np\n",
    "import matplotlib.pyplot as plt\n",
    "\n",
    "\n",
    "data = pd.read_csv('kc_house_data.csv')\n",
    "data = data[1:]\n",
    "data\n",
    "\n"
   ]
  },
  {
   "cell_type": "code",
   "execution_count": 84,
   "metadata": {},
   "outputs": [
    {
     "name": "stdout",
     "output_type": "stream",
     "text": [
      "12590\n",
      "9023\n"
     ]
    }
   ],
   "source": [
    "x=data[\"price\"][data[\"floors\"]<2]#This line of code identifies prices of houses with less than 2 floors\n",
    "y=data[\"price\"][data[\"floors\"]>=2] #Identify number of houses with more than 2 floors, taller building\n",
    "\n",
    "print(len(x))\n",
    "print(len(y))"
   ]
  },
  {
   "cell_type": "code",
   "execution_count": 42,
   "metadata": {},
   "outputs": [
    {
     "name": "stdout",
     "output_type": "stream",
     "text": [
      "mean of the first data:  651976.3741549373\n",
      "mean of the second data:  459900.09404289117\n",
      "difference in mean:  192076.28011204617\n",
      "Deviation of the first data: 273577.73398854135\n",
      "Deviation of the second data: 443743.93913962325\n",
      "Variance of the first data: 74844776534.3051\n",
      "Variance of the second data: 196908683523.14966\n"
     ]
    },
    {
     "data": {
      "image/png": "[encoded data removed]",
      "text/plain": [
       "<Figure size 864x504 with 1 Axes>"
      ]
     },
     "metadata": {
      "needs_background": "light"
     },
     "output_type": "display_data"
    },
    {
     "data": {
      "image/png": "[encoded data removed]",
      "text/plain": [
       "<Figure size 864x504 with 1 Axes>"
      ]
     },
     "metadata": {
      "needs_background": "light"
     },
     "output_type": "display_data"
    }
   ],
   "source": [
    "import numpy\n",
    "#From the initial codes, I find the mean values of tall buildings(y) and short buildings(x)\n",
    "mean1= numpy.mean(y) #The inbuilt calculator solves (Total number of values/ number of entries)\n",
    "print (\"mean of the first data: \", mean1) \n",
    "mean2= numpy.mean(x) #The inbuilt calculator solves (Total number of values/ number of entries)\n",
    "print (\"mean of the second data: \",mean2) #Mean of short buildings\n",
    "print (\"difference in mean: \",(mean1-mean2)) #Difference in Means is computed\n",
    "\n",
    "\n",
    "Dev1=numpy.std(x) #Calculates a standard deviation\n",
    "Dev2=numpy.std(y)\n",
    "print (\"Deviation of the first data:\" ,Dev1) #Prints deviation 1\n",
    "print (\"Deviation of the second data:\" ,Dev2) \n",
    "\n",
    "Variance= Dev1**2 #I also print variance to calculate practical significance\n",
    "print (\"Variance of the first data:\" ,Variance)\n",
    "Variance2=Dev2**2 \n",
    "print (\"Variance of the second data:\" ,Variance2)\n",
    "\n",
    " \n",
    "plt.figure(figsize=(12,7))\n",
    "plt.hist((y), bins=100) #To plot histogram with 50 bins\n",
    "plt.grid()\n",
    "plt.xlabel(\"Prices of taller houses in U.S dollars, \") #Puting the labels of x and y\n",
    "plt.ylabel(\"Frequency\")\n",
    "#plt.title(\" Frequency against price of taller houses\", fontsize=20)\n",
    "plt.axvline(mean1,color='green', label='Mean') #Shows the location of the mean in the histogram\n",
    "#plt.axvline(median2, color='red', label='Median') ##Shows the location of the median in the histogram\n",
    "median1=numpy.median(x)\n",
    "plt.axvline(median1,color='red', label='median') #Shows the location of the mean in the histogram\n",
    "\n",
    "\n",
    "plt.show()\n",
    "plt.figure(figsize=(12,7)) #Inputs desired size of the x and y axes\n",
    "plt.hist((x) ,bins=100) #To plot histogram with 50 bins\n",
    "plt.grid()\n",
    "plt.xlabel(\"Prices of shorter housesin U.S dollars \") #Puting the labels of x and y\n",
    "plt.ylabel(\"Frequency\")\n",
    "#plt.title(\" Frequency against Prices of Shorter houses\", fontsize=20)\n",
    "plt.axvline(mean2,color='green', label='Mean') #Shows the location of the mean in the histogram\n",
    "median=numpy.median(x)\n",
    "plt.axvline(median,color='red', label='median') #Shows the location of the mean in the histogram\n",
    "#plt.axvline(median2, color='red', label='Median') ##Shows the location of the median in the histogram\n",
    "#plt.legend()\n",
    "plt.show()\n",
    "\n"
   ]
  },
  {
   "cell_type": "code",
   "execution_count": 11,
   "metadata": {
    "scrolled": true
   },
   "outputs": [
    {
     "name": "stdout",
     "output_type": "stream",
     "text": [
      "Mean price: 540102.8645197112\n",
      "Mean number of floors: 1.49433185267444\n",
      "Median price  450000.0\n",
      "Median number of floors  450000.0\n",
      "Mode ModeResult(mode=array([350000.]), count=array([172]))\n",
      "Mode ModeResult(mode=array([1.]), count=array([10679]))\n",
      "Standard Deviation: 367120.81604699243\n",
      "Standard Deviation: 0.5399784259899353\n",
      "Range: 7625000.0\n",
      "Range: 2.5\n"
     ]
    }
   ],
   "source": [
    "import scipy.stats #Invaluable to calculate mathematical functions like mode.\n",
    "import numpy #Will be also helpful to calculate discriptive stats such as mean, median\n",
    "import statistics #Calculate the descriptive stats.\n",
    "#(Arithmetic Mean)\n",
    "#The functions generally add the numbers in the lists and divide it by the number of entries.\n",
    "mean1= numpy.mean(data['price']) #The inbuilt calculator solves (Total number of values/ number of entries)\n",
    "mean2=numpy.mean(data['floors']) #The  function finds mean of the 'data' folder. It specifically finds mean of the [\"floors\"] column\n",
    "print (\"Mean price:\", mean1) # Prints the mean price of houses\n",
    "print (\"Mean number of floors:\", mean2) # Prints the mean of floors\n",
    "#(Median)\n",
    "#Numpy This function generally sorts data, from the smallest to largest and finds the middle one. If the lists has an even number, the two middle numbers are summmed and averaged.\n",
    "median1= numpy.median(data['price']) #The inbuilt function Finds the median(Middle value)\n",
    "Median2=numpy.median(data['floors']) #specifying (data['floors']) mens I only get to calculate specifics of only this part in a table.\n",
    "print (\"Median price \", median1) # Prints the median\n",
    "print (\"Median number of floors \", median1)  ## Prints the median\n",
    "#(Mode)\n",
    "#with Scipy #This function the number that appears frequently and how many times it appears.\n",
    "mode1= scipy.stats.mode(data['price']) # Scipy is better than stats function as it says the number in which mode appears.\n",
    "mode2=scipy.stats.mode(data['floors'])\n",
    "print (\"Mode\", mode1) #Prints mode1\n",
    "print (\"Mode\", mode2) #Prints mode2\n",
    "#Standard deviation\n",
    "print('Standard Deviation:',numpy.std(data['price'])) #For each variable it adds the square of difference of the value and adds it to the mean into deviants\n",
    "#For variance we also expect to know how far a data can go above/below mean\n",
    "print('Standard Deviation:',numpy.std(data['floors'])) #For each variable it adds the square of difference of the value and adds it to the mean into deviants\n",
    "#For variance we also expect to know how far a data can go above/below mean\n",
    "#Range\n",
    "print(\"Range:\",max(data['price']) - min(data['price'])) # The range give the maximum- minimum number of prices of houses.\n",
    "print(\"Range:\",max(data['floors']) - min(data['floors'])) #Finds range of floors"
   ]
  },
  {
   "cell_type": "code",
   "execution_count": 10,
   "metadata": {},
   "outputs": [
    {
     "name": "stdout",
     "output_type": "stream",
     "text": [
      "0.007199650127749453\n",
      "1.4871322025466907\n",
      "1.5015315028021894\n",
      "21612\n",
      "4894.901912621203\n",
      "535207.96260709\n",
      "544997.7664323325\n"
     ]
    }
   ],
   "source": [
    "import scipy\n",
    "from scipy.stats import sem,t #Import standard error mean\n",
    "from scipy import mean #Imports mean of a population\n",
    "confidence=0.95 #Set the confidence Interval\n",
    "\n",
    "\n",
    "n=len(data['floors']) #Calculates the number of floors in my data\n",
    "\n",
    "m=numpy.mean(data['floors'])\n",
    "std_err= scipy.stats.sem(data['floors']) #Inbuilt function to calculate the dstandard error means of data\n",
    "\n",
    "#The n-1 finds the degrees of freedom\n",
    "#t.ppf is used as my data  may require some shape parameters to complete its specification. \n",
    "#My data requires to appear normally distributed as it is not\n",
    "#this formula tries to make it normal:(1+confidence)/2, n-1) \n",
    "#We then multiply the standard error and t.ppf((1+confidence)/2, n-1)  to get upper and lower limits\n",
    "h=std_err * t.ppf((1+confidence)/2, n-1) \n",
    "print (h)\n",
    "\n",
    "start=m-h #This is the upper bound interval\n",
    "print (start)\n",
    "end=m+h #This is the lower bound of the confidence Interval\n",
    "print (end)\n",
    "\n",
    "from scipy.stats import sem,t #Import standard error mean\n",
    "from scipy import mean #Imports mean of a population\n",
    "confidence=0.95 #Set the confidence Interval\n",
    "\n",
    "\n",
    "n=len(data['price']) #Calculates the number of price in my data\n",
    "print(n)\n",
    "\n",
    "m=numpy.mean(data['price']) #Calculates mean\n",
    "std_err= scipy.stats.sem(data['price']) #Inbuilt function to calculate the standard error means of data\n",
    "\n",
    "#The n-1 finds the degrees of freedom\n",
    "#t.ppf is used as my data  may require some shape parameters to complete its specification. \n",
    "#My data requires to appear normally distributed as it is not\n",
    "#this formula tries to make it normal:(1+confidence)/2, n-1) \n",
    "#We then multiply the standard error and t.ppf((1+confidence)/2, n-1)  to get upper and lower limits\n",
    "h=std_err * t.ppf((1+confidence)/2, n-1) \n",
    "print (h)\n",
    "\n",
    "start=m-h #This is the upper bound interval\n",
    "print (start)\n",
    "end=m+h #This is the lower bound of the confidence Interval\n",
    "print (end)"
   ]
  },
  {
   "cell_type": "code",
   "execution_count": 46,
   "metadata": {},
   "outputs": [
    {
     "data": {
      "image/png": "[encoded data removed]",
      "text/plain": [
       "<Figure size 864x504 with 1 Axes>"
      ]
     },
     "metadata": {
      "needs_background": "light"
     },
     "output_type": "display_data"
    }
   ],
   "source": [
    "import matplotlib.pyplot as plt\n",
    "import pandas as pd\n",
    "import scipy\n",
    "import numpy\n",
    "plt.figure(figsize=(12,7))\n",
    "plt.hist(data['floors']) #To plot histogram with 20 bins\n",
    "plt.xlabel(\"No of floors \") #Puting the labels of x and y\n",
    "plt.ylabel(\"Frequency\")\n",
    "#plt.title(\" Frequency against Number of Floors per house\", fontsize=20)\n",
    "plt.axvline(mean1,color='green', label='Mean') #Shows the location of the mean in the histogram\n",
    "#data = pd.read_csv('kc_house_data.csv')\n",
    "#Median3=numpy.median(data['floors'])\n",
    "#plt.axvline(median2, color='red', label='Median') ##Shows the location of the median in the histogram\n",
    "#plt.legend()\n",
    "plt.show()\n"
   ]
  },
  {
   "cell_type": "code",
   "execution_count": 76,
   "metadata": {},
   "outputs": [
    {
     "ename": "ValueError",
     "evalue": "The truth value of a Series is ambiguous. Use a.empty, a.bool(), a.item(), a.any() or a.all().",
     "output_type": "error",
     "traceback": [
      "\u001b[1;31m---------------------------------------------------------------------------\u001b[0m",
      "\u001b[1;31mValueError\u001b[0m                                Traceback (most recent call last)",
      "\u001b[1;32m<ipython-input-76-9c1a04331af7>\u001b[0m in \u001b[0;36m<module>\u001b[1;34m\u001b[0m\n\u001b[0;32m      8\u001b[0m \u001b[0mplt\u001b[0m\u001b[1;33m.\u001b[0m\u001b[0mylabel\u001b[0m\u001b[1;33m(\u001b[0m\u001b[1;34m\"Frequency\"\u001b[0m\u001b[1;33m)\u001b[0m\u001b[1;33m\u001b[0m\u001b[1;33m\u001b[0m\u001b[0m\n\u001b[0;32m      9\u001b[0m \u001b[0mplt\u001b[0m\u001b[1;33m.\u001b[0m\u001b[0mtitle\u001b[0m\u001b[1;33m(\u001b[0m\u001b[1;34m\" Frequency against Prices per house\"\u001b[0m\u001b[1;33m,\u001b[0m \u001b[0mfontsize\u001b[0m\u001b[1;33m=\u001b[0m\u001b[1;36m20\u001b[0m\u001b[1;33m)\u001b[0m\u001b[1;33m\u001b[0m\u001b[1;33m\u001b[0m\u001b[0m\n\u001b[1;32m---> 10\u001b[1;33m \u001b[0mplt\u001b[0m\u001b[1;33m.\u001b[0m\u001b[0maxvline\u001b[0m\u001b[1;33m(\u001b[0m\u001b[0mmean1\u001b[0m\u001b[1;33m,\u001b[0m\u001b[0mcolor\u001b[0m\u001b[1;33m=\u001b[0m\u001b[1;34m'green'\u001b[0m\u001b[1;33m,\u001b[0m \u001b[0mlabel\u001b[0m\u001b[1;33m=\u001b[0m\u001b[1;34m'Mean'\u001b[0m\u001b[1;33m)\u001b[0m \u001b[1;31m#Shows the location of the mean in the histogram\u001b[0m\u001b[1;33m\u001b[0m\u001b[1;33m\u001b[0m\u001b[0m\n\u001b[0m\u001b[0;32m     11\u001b[0m \u001b[1;31m#plt.axvline(median1, color='red', label='Median') ##Shows the location of the median in the histogram\u001b[0m\u001b[1;33m\u001b[0m\u001b[1;33m\u001b[0m\u001b[1;33m\u001b[0m\u001b[0m\n\u001b[0;32m     12\u001b[0m \u001b[1;31m#plt.legend()\u001b[0m\u001b[1;33m\u001b[0m\u001b[1;33m\u001b[0m\u001b[1;33m\u001b[0m\u001b[0m\n",
      "\u001b[1;32m~\\Anaconda3\\lib\\site-packages\\matplotlib\\pyplot.py\u001b[0m in \u001b[0;36maxvline\u001b[1;34m(x, ymin, ymax, **kwargs)\u001b[0m\n\u001b[0;32m   2422\u001b[0m \u001b[1;33m@\u001b[0m\u001b[0mdocstring\u001b[0m\u001b[1;33m.\u001b[0m\u001b[0mcopy\u001b[0m\u001b[1;33m(\u001b[0m\u001b[0mAxes\u001b[0m\u001b[1;33m.\u001b[0m\u001b[0maxvline\u001b[0m\u001b[1;33m)\u001b[0m\u001b[1;33m\u001b[0m\u001b[1;33m\u001b[0m\u001b[0m\n\u001b[0;32m   2423\u001b[0m \u001b[1;32mdef\u001b[0m \u001b[0maxvline\u001b[0m\u001b[1;33m(\u001b[0m\u001b[0mx\u001b[0m\u001b[1;33m=\u001b[0m\u001b[1;36m0\u001b[0m\u001b[1;33m,\u001b[0m \u001b[0mymin\u001b[0m\u001b[1;33m=\u001b[0m\u001b[1;36m0\u001b[0m\u001b[1;33m,\u001b[0m \u001b[0mymax\u001b[0m\u001b[1;33m=\u001b[0m\u001b[1;36m1\u001b[0m\u001b[1;33m,\u001b[0m \u001b[1;33m**\u001b[0m\u001b[0mkwargs\u001b[0m\u001b[1;33m)\u001b[0m\u001b[1;33m:\u001b[0m\u001b[1;33m\u001b[0m\u001b[1;33m\u001b[0m\u001b[0m\n\u001b[1;32m-> 2424\u001b[1;33m     \u001b[1;32mreturn\u001b[0m \u001b[0mgca\u001b[0m\u001b[1;33m(\u001b[0m\u001b[1;33m)\u001b[0m\u001b[1;33m.\u001b[0m\u001b[0maxvline\u001b[0m\u001b[1;33m(\u001b[0m\u001b[0mx\u001b[0m\u001b[1;33m=\u001b[0m\u001b[0mx\u001b[0m\u001b[1;33m,\u001b[0m \u001b[0mymin\u001b[0m\u001b[1;33m=\u001b[0m\u001b[0mymin\u001b[0m\u001b[1;33m,\u001b[0m \u001b[0mymax\u001b[0m\u001b[1;33m=\u001b[0m\u001b[0mymax\u001b[0m\u001b[1;33m,\u001b[0m \u001b[1;33m**\u001b[0m\u001b[0mkwargs\u001b[0m\u001b[1;33m)\u001b[0m\u001b[1;33m\u001b[0m\u001b[1;33m\u001b[0m\u001b[0m\n\u001b[0m\u001b[0;32m   2425\u001b[0m \u001b[1;33m\u001b[0m\u001b[0m\n\u001b[0;32m   2426\u001b[0m \u001b[1;33m\u001b[0m\u001b[0m\n",
      "\u001b[1;32m~\\Anaconda3\\lib\\site-packages\\matplotlib\\axes\\_axes.py\u001b[0m in \u001b[0;36maxvline\u001b[1;34m(self, x, ymin, ymax, **kwargs)\u001b[0m\n\u001b[0;32m    929\u001b[0m         \u001b[0mself\u001b[0m\u001b[1;33m.\u001b[0m\u001b[0m_process_unit_info\u001b[0m\u001b[1;33m(\u001b[0m\u001b[0mxdata\u001b[0m\u001b[1;33m=\u001b[0m\u001b[0mx\u001b[0m\u001b[1;33m,\u001b[0m \u001b[0mkwargs\u001b[0m\u001b[1;33m=\u001b[0m\u001b[0mkwargs\u001b[0m\u001b[1;33m)\u001b[0m\u001b[1;33m\u001b[0m\u001b[1;33m\u001b[0m\u001b[0m\n\u001b[0;32m    930\u001b[0m         \u001b[0mxx\u001b[0m \u001b[1;33m=\u001b[0m \u001b[0mself\u001b[0m\u001b[1;33m.\u001b[0m\u001b[0mconvert_xunits\u001b[0m\u001b[1;33m(\u001b[0m\u001b[0mx\u001b[0m\u001b[1;33m)\u001b[0m\u001b[1;33m\u001b[0m\u001b[1;33m\u001b[0m\u001b[0m\n\u001b[1;32m--> 931\u001b[1;33m         \u001b[0mscalex\u001b[0m \u001b[1;33m=\u001b[0m \u001b[1;33m(\u001b[0m\u001b[0mxx\u001b[0m \u001b[1;33m<\u001b[0m \u001b[0mxmin\u001b[0m\u001b[1;33m)\u001b[0m \u001b[1;32mor\u001b[0m \u001b[1;33m(\u001b[0m\u001b[0mxx\u001b[0m \u001b[1;33m>\u001b[0m \u001b[0mxmax\u001b[0m\u001b[1;33m)\u001b[0m\u001b[1;33m\u001b[0m\u001b[1;33m\u001b[0m\u001b[0m\n\u001b[0m\u001b[0;32m    932\u001b[0m \u001b[1;33m\u001b[0m\u001b[0m\n\u001b[0;32m    933\u001b[0m         \u001b[0mtrans\u001b[0m \u001b[1;33m=\u001b[0m \u001b[0mself\u001b[0m\u001b[1;33m.\u001b[0m\u001b[0mget_xaxis_transform\u001b[0m\u001b[1;33m(\u001b[0m\u001b[0mwhich\u001b[0m\u001b[1;33m=\u001b[0m\u001b[1;34m'grid'\u001b[0m\u001b[1;33m)\u001b[0m\u001b[1;33m\u001b[0m\u001b[1;33m\u001b[0m\u001b[0m\n",
      "\u001b[1;32m~\\Anaconda3\\lib\\site-packages\\pandas\\core\\generic.py\u001b[0m in \u001b[0;36m__nonzero__\u001b[1;34m(self)\u001b[0m\n\u001b[0;32m   1553\u001b[0m             \u001b[1;34m\"The truth value of a {0} is ambiguous. \"\u001b[0m\u001b[1;33m\u001b[0m\u001b[1;33m\u001b[0m\u001b[0m\n\u001b[0;32m   1554\u001b[0m             \"Use a.empty, a.bool(), a.item(), a.any() or a.all().\".format(\n\u001b[1;32m-> 1555\u001b[1;33m                 \u001b[0mself\u001b[0m\u001b[1;33m.\u001b[0m\u001b[0m__class__\u001b[0m\u001b[1;33m.\u001b[0m\u001b[0m__name__\u001b[0m\u001b[1;33m\u001b[0m\u001b[1;33m\u001b[0m\u001b[0m\n\u001b[0m\u001b[0;32m   1556\u001b[0m             )\n\u001b[0;32m   1557\u001b[0m         )\n",
      "\u001b[1;31mValueError\u001b[0m: The truth value of a Series is ambiguous. Use a.empty, a.bool(), a.item(), a.any() or a.all()."
     ]
    },
    {
     "data": {
      "image/png": "[encoded data removed]",
      "text/plain": [
       "<Figure size 432x288 with 1 Axes>"
      ]
     },
     "metadata": {
      "needs_background": "light"
     },
     "output_type": "display_data"
    }
   ],
   "source": [
    "import scipy.stats #Invaluable to calculate mathematical functions like mode.\n",
    "import numpy #Will be also helpful to calculate discriptive stats such as mean, median\n",
    "import statistics #Calculate the descriptive stats.plt.figure(figsize=(17,7),) #I set the X and Y limits of figure size \n",
    "\n",
    "plt.hist(data['price'],  align='mid', bins=30) #To plot histogram with 30 bins, and aligned at middle\n",
    "\n",
    "plt.xlabel(\"Price \") #Puting the labels of x and y\n",
    "plt.ylabel(\"Frequency\")\n",
    "plt.title(\" Frequency against Prices per house\", fontsize=20)\n",
    "plt.axvline(mean1,color='green', label='Mean') #Shows the location of the mean in the histogram\n",
    "#plt.axvline(median1, color='red', label='Median') ##Shows the location of the median in the histogram\n",
    "#plt.legend()\n",
    "plt.xticks(np.linspace(0,2500000,3)) #To create the numeric sequences, ensure histogram starts at zero to 250000\n",
    "plt.show()\n",
    "\n",
    "plt.hist(data['floors']) #To plot histogram of how frequent number of floors appear.\n",
    "plt.xlabel(\"No of floors \") #Puting the labels of x and y\n",
    "plt.ylabel(\"Frequency\")\n",
    "#plt.title(\" Frequency against Number of Floors per house\", fontsize=20) #Plot frequency\n",
    "#mean2=('1.49')\n",
    "#plt.axvline(mean2,color='green', label='Mean') #Shows the location of the mean in the histogram\n",
    "#plt.axvline(median1, color='red', label='Median') ##Shows the location of the median in the histogram\n",
    "#plt.legend()\n",
    "plt.show()\n"
   ]
  },
  {
   "cell_type": "code",
   "execution_count": 14,
   "metadata": {},
   "outputs": [
    {
     "data": {
      "image/png": "[encoded data removed]",
      "text/plain": [
       "<Figure size 432x288 with 1 Axes>"
      ]
     },
     "metadata": {
      "needs_background": "light"
     },
     "output_type": "display_data"
    }
   ],
   "source": [
    "plt.hist(data['price'],) #To plot histogram with 20 bins\n",
    "\n",
    "plt.xlabel(\"Price \") #Puting the labels of x and y\n",
    "plt.ylabel(\"Frequency\")\n",
    "plt.title(\" Frequency against Number of Prices of Houses \", fontsize=20)\n",
    "plt.axvline(mean1,color='green', label='Mean') #Shows the location of the mean in the histogram\n",
    "plt.axvline(median1, color='red', label='Median') ##Shows the location of the median in the histogram\n",
    "plt.legend()\n",
    "plt.xticks(np.linspace(0,2000000,1))\n",
    "plt.show()"
   ]
  },
  {
   "cell_type": "code",
   "execution_count": 83,
   "metadata": {},
   "outputs": [
    {
     "data": {
      "image/png": "[encoded data removed]",
      "text/plain": [
       "<Figure size 432x288 with 1 Axes>"
      ]
     },
     "metadata": {
      "needs_background": "light"
     },
     "output_type": "display_data"
    }
   ],
   "source": [
    "plt.hist(data['floors']) #To plot histogram of how frequent number of floors appear.\n",
    "plt.xlabel(\"No of floors \") #Puting the labels of x and y\n",
    "plt.ylabel(\"Frequency\")\n",
    "plt.grid()\n",
    "#plt.title(\" Frequency against Number of Floors per house\", fontsize=20) #Plot frequency\n",
    "#mean2=('1.49')\n",
    "#plt.axvline(mean2,color='green', label='Mean') #Shows the location of the mean in the histogram\n",
    "#plt.axvline(median1, color='red', label='Median') ##Shows the location of the median in the histogram\n",
    "#plt.legend()\n",
    "mean2=np.mean(data['floors'])\n",
    "plt.axvline(mean2,color='green', label='Mean') #Shows the location of the mean in the histogram\n",
    "#plt.axvline(median1, color='red', label='Median') ##Shows the location of the median in the histogram\n",
    "plt.show()\n"
   ]
  },
  {
   "cell_type": "code",
   "execution_count": 16,
   "metadata": {},
   "outputs": [
    {
     "data": {
      "text/plain": [
       "<Figure size 3600x2100 with 0 Axes>"
      ]
     },
     "metadata": {},
     "output_type": "display_data"
    },
    {
     "data": {
      "image/png": "[encoded data removed]",
      "text/plain": [
       "<Figure size 648x432 with 1 Axes>"
      ]
     },
     "metadata": {
      "needs_background": "light"
     },
     "output_type": "display_data"
    }
   ],
   "source": [
    "import csv #Imports comma seperated values\n",
    "import pandas as pd #Invaluable to calculate pearson's correlation effects\n",
    "import numpy\n",
    "import scipy #Assist to calculate descriptive stats\n",
    "\n",
    "\n",
    "\n",
    "corr, _ = scipy.stats.pearsonr(data['price'], data['floors']) #Inbuilt function to calculate correlation\n",
    "a = 'Pearsons correlation: %.3f' % corr\n",
    "plt.figure(figsize=(12,7), dpi=300) #Sets limits on a graph for desired calculations\n",
    "data=pd.read_csv('kc_house_data.csv')  #Reads Csv files\n",
    "\n",
    "\n",
    "\n",
    "plt.figure(figsize=(9,6),) #I set the X and Y limits of figure size \n",
    "plt.scatter(data['price'], data['floors'], label='price  vs. floors') #To plot scatter plots\n",
    "plt.plot(np.unique(data['price']), np.poly1d(np.polyfit(data['price'], data['floors'], 1))(np.unique(data['price'])), color='#4caf50', label=a)\n",
    "#The above line inserts the line of best fit, plus other valuable items like desired color\n",
    "plt.xlabel('price in dolars') #Inputs X label\n",
    "plt.ylabel('number of floors') #Inputs y label\n",
    "plt.title('A scatter plot showing the correlation of price of house in dollars and number of floors .') #Plot title\n",
    "\n",
    "plt.legend()\n",
    "plt.show()"
   ]
  },
  {
   "cell_type": "code",
   "execution_count": 17,
   "metadata": {},
   "outputs": [
    {
     "ename": "SyntaxError",
     "evalue": "invalid syntax (<ipython-input-17-cadd42f3fa12>, line 7)",
     "output_type": "error",
     "traceback": [
      "\u001b[1;36m  File \u001b[1;32m\"<ipython-input-17-cadd42f3fa12>\"\u001b[1;36m, line \u001b[1;32m7\u001b[0m\n\u001b[1;33m    plt.rcParams data['floors']\u001b[0m\n\u001b[1;37m                    ^\u001b[0m\n\u001b[1;31mSyntaxError\u001b[0m\u001b[1;31m:\u001b[0m invalid syntax\n"
     ]
    }
   ],
   "source": [
    "%matplotlib inline\n",
    "from scipy import stats\n",
    "import numpy as np\n",
    "import matplotlib.pyplot as plt\n",
    "plt.rcParams.update({'font.size': 13})\n",
    "data=pd.read_csv('kc_house_data.csv') \n",
    "plt.rcParams data['floors'] \n",
    "\n",
    "p = 0.4 #probability of success\n",
    "n = np.linspace(1,15,15) #trial with first success\n",
    "# note: np.linspace(a,b,N) creates an array from a to b with N elements\n",
    "\n",
    "geometric_distribution = stats.geom.pmf(n, p)\n",
    "\n",
    "plt.bar(n, geometric_distribution)\n",
    "plt.title('Geometric Distribution \\nProbability of sucess: p = '+str(p))\n",
    "plt.xlabel('Trial with first success (n)')\n",
    "plt.ylabel('Probability P(n)')\n",
    "plt.show()\n"
   ]
  },
  {
   "cell_type": "code",
   "execution_count": null,
   "metadata": {},
   "outputs": [],
   "source": [
    "# this function implements the full sampling process\n",
    "def sample_procedure(dist,n):\n",
    "    # dist is the population distribution\n",
    "    # n is the sample size\n",
    "\n",
    "    # one sample:\n",
    "    sample = np.random.choice(dist,n)\n",
    "    # by default, np.random.choice uses replace=True\n",
    "    this_mean = np.mean(sample)\n",
    "    print(\"Here's one sample of size\",n,\":\\n\",[round(elem, 1) for elem in sample])\n",
    "    print(\"This sample has a mean of:\",round(this_mean,1))\n",
    "\n",
    "   "
   ]
  },
  {
   "cell_type": "code",
   "execution_count": null,
   "metadata": {},
   "outputs": [],
   "source": [
    "# this function implements the full sampling process\n",
    "def sample_procedure(dist,n):\n",
    "    # dist is the population distribution\n",
    "    # n is the sample size\n",
    "\n",
    "    # one sample:\n",
    "    sample = np.random.choice(dist,n)\n",
    "    # by default, np.random.choice uses replace=True\n",
    "    this_mean = np.mean(sample)\n",
    "    print(\"Here's one sample of size\",n,\":\\n\",[round(elem, 1) for elem in sample])\n",
    "    print(\"This sample has a mean of:\",round(this_mean,1))\n",
    "\n",
    "    # lots of samples:\n",
    "    sample_repeats = 20000\n",
    "    sample_means = []\n",
    "    for _ in range(sample_repeats):\n",
    "        sample = np.random.choice(dist, (n, ))\n",
    "        this_mean = np.mean(sample)\n",
    "        sample_means.append(this_mean)\n",
    "\n",
    "    print(\"\\nHere's what the sample mean distribution looks like.\")\n",
    "    plt.hist(sample_means)\n",
    "    plt.title('Sample Mean Distribution\\nn='+str(n))\n",
    "    plt.show()\n",
    "\n",
    "    #print(\"The mean of the sample means is:\", round(np.mean(sample_means)),1)\n",
    "    #print(\"The standard deviation of the sample means is:\", round(np.std(sample_means)),1)"
   ]
  },
  {
   "cell_type": "code",
   "execution_count": null,
   "metadata": {},
   "outputs": [],
   "source": [
    "%matplotlib inline\n",
    "import numpy as np\n",
    "import random\n",
    "from scipy import stats\n",
    "import matplotlib.pyplot as plt\n",
    "plt.rcParams.update({'font.size': 13})\n",
    "plt.rcParams[\"figure.figsize\"] = [6,4]\n",
    "\n",
    "sample_repeats = 1000\n",
    "\n",
    "def sample_procedure(dist,n):\n",
    "    # dist is the population distribution\n",
    "    # n is the sample size\n",
    "\n",
    "    print(\"Sampling\", sample_repeats,\"times with sample size =\",n,\"...\\n\")\n",
    "\n",
    "    sample_means = []\n",
    "    for _ in range(sample_repeats):\n",
    "        sample = np.random.choice(dist, (n, ))\n",
    "        this_mean = np.mean(sample)\n",
    "        sample_means.append(this_mean)\n",
    "\n",
    "    #Uncomment these lines if you want to see the sampling distribution\n",
    "    #plt.hist(sample_means)\n",
    "    #plt.title('Sample Mean Distribution\\nn='+str(n))\n",
    "    #plt.show()\n",
    "\n",
    "    print(\"- The mean of the sample means is:\", round(np.mean(sample_means)),1)\n",
    "    print(\"- The standard deviation of the sample means is:\", round(np.std(sample_means)),1)\n",
    "    print(\"\")\n",
    "    return sample_means\n",
    "\n",
    "def confidence_interval(mean,z,SE):\n",
    "    lowbound = mean - z*SE\n",
    "    highbound = mean + z*SE\n",
    "    return lowbound,highbound"
   ]
  },
  {
   "cell_type": "code",
   "execution_count": 78,
   "metadata": {},
   "outputs": [
    {
     "data": {
      "image/png": "[encoded data removed]",
      "text/plain": [
       "<Figure size 864x504 with 1 Axes>"
      ]
     },
     "metadata": {
      "needs_background": "light"
     },
     "output_type": "display_data"
    }
   ],
   "source": [
    "plt.figure(figsize=(12,7), )\n",
    "plt.hist(x)\n",
    "plt.show()\n"
   ]
  },
  {
   "cell_type": "code",
   "execution_count": 26,
   "metadata": {},
   "outputs": [
    {
     "data": {
      "image/png": "[encoded data removed]",
      "text/plain": [
       "<Figure size 864x504 with 1 Axes>"
      ]
     },
     "metadata": {
      "needs_background": "light"
     },
     "output_type": "display_data"
    }
   ],
   "source": [
    "plt.figure(figsize=(12,7))\n",
    "plt.hist(y)\n",
    "plt.show()"
   ]
  },
  {
   "cell_type": "code",
   "execution_count": null,
   "metadata": {},
   "outputs": [],
   "source": []
  }
 ],
 "metadata": {
  "kernelspec": {
   "display_name": "Python 3",
   "language": "python",
   "name": "python3"
  },
  "language_info": {
   "codemirror_mode": {
    "name": "ipython",
    "version": 3
   },
   "file_extension": ".py",
   "mimetype": "text/x-python",
   "name": "python",
   "nbconvert_exporter": "python",
   "pygments_lexer": "ipython3",
   "version": "3.7.4"
  }
 },
 "nbformat": 4,
 "nbformat_minor": 2
}
